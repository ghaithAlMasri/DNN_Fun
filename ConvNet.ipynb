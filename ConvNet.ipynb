{
 "cells": [
  {
   "cell_type": "code",
   "execution_count": 12,
   "metadata": {},
   "outputs": [],
   "source": [
    "import tensorflow as tf\n",
    "from tensorflow.keras.models import Sequential\n",
    "from tensorflow.keras.layers import Flatten, Dense, Conv2D, MaxPooling2D, Dropout, Activation\n",
    "from tensorflow.keras.callbacks import TensorBoard\n",
    "import pickle\n",
    "import numpy as np\n",
    "import datetime"
   ]
  },
  {
   "cell_type": "code",
   "execution_count": 13,
   "metadata": {},
   "outputs": [],
   "source": [
    "X = pickle.load(open('X.pickle', 'rb'))\n",
    "y = pickle.load(open('y.pickle', 'rb'))\n",
    "log_dir = \"logs/fit/\" + datetime.datetime.now().strftime(\"%Y%m%d-%H%M%S\")\n",
    "tensorboard = TensorBoard(log_dir=log_dir)\n",
    "X = X/255\n",
    "NAME = f\"ConvNet-2layers-{datetime.datetime.now()}\"\n",
    "\n"
   ]
  },
  {
   "cell_type": "code",
   "execution_count": 14,
   "metadata": {},
   "outputs": [
    {
     "name": "stdout",
     "output_type": "stream",
     "text": [
      "Epoch 1/10\n",
      "546/546 [==============================] - 39s 70ms/step - loss: 0.6359 - accuracy: 0.6311 - val_loss: 0.5690 - val_accuracy: 0.7064\n",
      "Epoch 2/10\n",
      "546/546 [==============================] - 40s 73ms/step - loss: 0.5216 - accuracy: 0.7405 - val_loss: 0.5044 - val_accuracy: 0.7586\n",
      "Epoch 3/10\n",
      "546/546 [==============================] - 39s 71ms/step - loss: 0.4723 - accuracy: 0.7757 - val_loss: 0.4803 - val_accuracy: 0.7682\n",
      "Epoch 4/10\n",
      "546/546 [==============================] - 44s 81ms/step - loss: 0.4334 - accuracy: 0.7983 - val_loss: 0.4818 - val_accuracy: 0.7710\n",
      "Epoch 5/10\n",
      "546/546 [==============================] - 40s 73ms/step - loss: 0.3928 - accuracy: 0.8211 - val_loss: 0.4979 - val_accuracy: 0.7763\n",
      "Epoch 6/10\n",
      "546/546 [==============================] - 40s 73ms/step - loss: 0.3550 - accuracy: 0.8396 - val_loss: 0.4645 - val_accuracy: 0.7883\n",
      "Epoch 7/10\n",
      "546/546 [==============================] - 40s 74ms/step - loss: 0.3043 - accuracy: 0.8669 - val_loss: 0.5226 - val_accuracy: 0.7631\n",
      "Epoch 8/10\n",
      "546/546 [==============================] - 42s 76ms/step - loss: 0.2583 - accuracy: 0.8906 - val_loss: 0.4942 - val_accuracy: 0.7850\n",
      "Epoch 9/10\n",
      "546/546 [==============================] - 39s 71ms/step - loss: 0.2095 - accuracy: 0.9161 - val_loss: 0.5227 - val_accuracy: 0.7854\n",
      "Epoch 10/10\n",
      "546/546 [==============================] - 41s 75ms/step - loss: 0.1677 - accuracy: 0.9356 - val_loss: 0.5980 - val_accuracy: 0.7799\n"
     ]
    },
    {
     "data": {
      "text/plain": [
       "<keras.src.callbacks.History at 0x2a4cb9420>"
      ]
     },
     "execution_count": 14,
     "metadata": {},
     "output_type": "execute_result"
    }
   ],
   "source": [
    "model = Sequential()\n",
    "\n",
    "\n",
    "model.add(Conv2D(64,(3,3), input_shape = X.shape[1:]))\n",
    "model.add(Activation('relu'))\n",
    "model.add(MaxPooling2D(pool_size=(2,2)))\n",
    "\n",
    "\n",
    "model.add(Conv2D(64, (3,3)))\n",
    "model.add(Activation('relu'))\n",
    "model.add(MaxPooling2D(pool_size=(2,2)))\n",
    "\n",
    "\n",
    "model.add(Flatten())\n",
    "model.add(Dense(64))\n",
    "model.add(Activation('relu'))\n",
    "\n",
    "\n",
    "model.add(Flatten())\n",
    "model.add(Dense(1))\n",
    "model.add(Activation('sigmoid'))\n",
    "\n",
    "\n",
    "model.compile(optimizer='adam',\n",
    "              loss = 'binary_crossentropy',\n",
    "              metrics= ['accuracy']\n",
    "              )\n",
    "\n",
    "\n",
    "model.fit(X, y, batch_size=32, epochs=10, validation_split=0.3, callbacks = [tensorboard])"
   ]
  },
  {
   "cell_type": "code",
   "execution_count": 15,
   "metadata": {},
   "outputs": [
    {
     "name": "stdout",
     "output_type": "stream",
     "text": [
      "INFO:tensorflow:Assets written to: ConvNet-2layers-2023-07-18 05:05:19.623347/assets\n"
     ]
    },
    {
     "name": "stderr",
     "output_type": "stream",
     "text": [
      "INFO:tensorflow:Assets written to: ConvNet-2layers-2023-07-18 05:05:19.623347/assets\n"
     ]
    }
   ],
   "source": [
    "model.save(NAME)"
   ]
  },
  {
   "cell_type": "code",
   "execution_count": 16,
   "metadata": {},
   "outputs": [],
   "source": [
    "new_model = tf.keras.models.load_model('ConvNet-2layers-2023-07-18 05:05:19.623347')"
   ]
  },
  {
   "cell_type": "code",
   "execution_count": 17,
   "metadata": {},
   "outputs": [
    {
     "name": "stdout",
     "output_type": "stream",
     "text": [
      "780/780 [==============================] - 14s 18ms/step\n"
     ]
    }
   ],
   "source": [
    "preds = new_model.predict([X])"
   ]
  },
  {
   "cell_type": "code",
   "execution_count": 19,
   "metadata": {},
   "outputs": [
    {
     "data": {
      "text/plain": [
       "array([0.99475884], dtype=float32)"
      ]
     },
     "execution_count": 19,
     "metadata": {},
     "output_type": "execute_result"
    }
   ],
   "source": [
    "import numpy as np\n",
    "\n",
    "preds[1]"
   ]
  },
  {
   "cell_type": "code",
   "execution_count": null,
   "metadata": {},
   "outputs": [],
   "source": []
  }
 ],
 "metadata": {
  "kernelspec": {
   "display_name": "Python 3",
   "language": "python",
   "name": "python3"
  },
  "language_info": {
   "codemirror_mode": {
    "name": "ipython",
    "version": 3
   },
   "file_extension": ".py",
   "mimetype": "text/x-python",
   "name": "python",
   "nbconvert_exporter": "python",
   "pygments_lexer": "ipython3",
   "version": "3.10.5"
  },
  "orig_nbformat": 4
 },
 "nbformat": 4,
 "nbformat_minor": 2
}
