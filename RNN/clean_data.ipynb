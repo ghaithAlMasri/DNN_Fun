{
 "cells": [
  {
   "cell_type": "code",
   "execution_count": 29,
   "metadata": {},
   "outputs": [],
   "source": [
    "import pandas as pd\n",
    "from sklearn import preprocessing\n",
    "import numpy as np\n",
    "from collections import deque\n",
    "import random\n",
    "import pickle"
   ]
  },
  {
   "cell_type": "code",
   "execution_count": 30,
   "metadata": {},
   "outputs": [],
   "source": [
    "future_window = 3\n",
    "security_to_predict = 'ETH-USD'"
   ]
  },
  {
   "cell_type": "code",
   "execution_count": 31,
   "metadata": {},
   "outputs": [],
   "source": [
    "def future_predict(current, future):\n",
    "    if future > current:\n",
    "        return 1\n",
    "    else:\n",
    "        return 0"
   ]
  },
  {
   "cell_type": "code",
   "execution_count": 37,
   "metadata": {},
   "outputs": [],
   "source": [
    "def preprocessing_df(df:pd.DataFrame):\n",
    "    df.drop(['future_price'], axis = 1, inplace = True)\n",
    "    for c in df.columns:\n",
    "        if c != 'target':\n",
    "            df[c] = df[c].pct_change()\n",
    "            df.dropna(inplace=True)\n",
    "            df[c] = preprocessing.scale(df[c].values)\n",
    "        df.dropna(inplace=True)\n",
    "    df.dropna(inplace=True)\n",
    "    return df\n",
    "\n",
    "def create_sequences(lookback_period:int, df:pd.DataFrame):\n",
    "    sequences = []\n",
    "    lookback = deque(maxlen = lookback_period)\n",
    "    for i in df.values:\n",
    "        lookback.append([n for n in i[:-1]])\n",
    "        if len(lookback) == lookback_period:\n",
    "            sequences.append([np.array(lookback), i[-1]])\n",
    "    random.shuffle(sequences)\n",
    "\n",
    "\n",
    "    buys = []\n",
    "    sells = []\n",
    "\n",
    "\n",
    "    for i in range(len(sequences)):\n",
    "        if sequences[i][-1] == 1:\n",
    "            buys.append(sequences[i])\n",
    "        else:\n",
    "            sells.append(sequences[i])\n",
    "\n",
    "            \n",
    "\n",
    "\n",
    "\n",
    "    min_num = min(len(buys), len(sells))\n",
    "    buys = buys[:min_num]\n",
    "    sells = sells[:min_num]\n",
    "    print(f'Buys: {len(buys)}, Sells: {len(sells)}')\n",
    "    sequences = buys+sells\n",
    "    random.shuffle(sequences)\n",
    "    X = [sequences[x][0] for x in range(len(sequences))]\n",
    "    y = [sequences[x][1] for x in range(len(sequences))]\n",
    "\n",
    "    \n",
    "        \n",
    "    return np.array(X), y"
   ]
  },
  {
   "cell_type": "code",
   "execution_count": 39,
   "metadata": {},
   "outputs": [
    {
     "name": "stdout",
     "output_type": "stream",
     "text": [
      "Buys: 35357, Sells: 35357\n",
      "Buys: 3909, Sells: 3909\n",
      "X_train: 70714, y_train: 70714\n",
      "X_val: 7818, y_val: 7818\n"
     ]
    }
   ],
   "source": [
    "sec_names = ['BTC-USD', 'BCH-USD', 'LTC-USD', 'ETH-USD']\n",
    "main_df = pd.DataFrame()\n",
    "\n",
    "for sec in sec_names:\n",
    "    temp = pd.read_csv(f'./crypto_data/{sec}.csv', \n",
    "                       names = ['time', 'low', 'high','open','close','volume'])\n",
    "    temp = pd.DataFrame({'time': temp['time'], f'{sec}_close': temp['close'], f'{sec}_volume': temp['volume']})\n",
    "    temp.set_index('time', inplace=True)\n",
    "    if len(main_df) == 0:\n",
    "        main_df = temp\n",
    "    else:\n",
    "        main_df = pd.merge(main_df, temp, on=['time'])\n",
    "main_df['future_price'] = main_df[f'{security_to_predict}_close'].shift(-3)\n",
    "main_df['target'] = list(map(future_predict,main_df[f'{security_to_predict}_close'], main_df['future_price']))\n",
    "main_df.dropna(inplace=True)\n",
    "\n",
    "\n",
    "main_df = preprocessing_df(main_df)\n",
    "validation_df = main_df.iloc[int(len(main_df)*0.9):]\n",
    "main_df = main_df.iloc[:int(len(main_df) * 0.9)]\n",
    "\n",
    "X_train, y_train = create_sequences(60, main_df)\n",
    "X_val, y_val = create_sequences(60, validation_df)\n",
    "\n",
    "print(f'X_train: {len(X_train)}, y_train: {len(y_train)}')\n",
    "print(f'X_val: {len(X_val)}, y_val: {len(y_val)}')\n",
    "\n"
   ]
  },
  {
   "cell_type": "code",
   "execution_count": 52,
   "metadata": {},
   "outputs": [],
   "source": [
    "data = {'X_train':X_train, 'y_train':y_train, 'X_val':X_val, 'y_val':y_val}\n",
    "for name, value in data.items():\n",
    "    with open(f'{name}.pickle', 'wb') as j:\n",
    "        pickle.dump(value, j)"
   ]
  },
  {
   "cell_type": "code",
   "execution_count": null,
   "metadata": {},
   "outputs": [],
   "source": []
  },
  {
   "cell_type": "code",
   "execution_count": null,
   "metadata": {},
   "outputs": [],
   "source": []
  },
  {
   "cell_type": "code",
   "execution_count": null,
   "metadata": {},
   "outputs": [],
   "source": []
  }
 ],
 "metadata": {
  "kernelspec": {
   "display_name": "tensowflow",
   "language": "python",
   "name": "python3"
  },
  "language_info": {
   "codemirror_mode": {
    "name": "ipython",
    "version": 3
   },
   "file_extension": ".py",
   "mimetype": "text/x-python",
   "name": "python",
   "nbconvert_exporter": "python",
   "pygments_lexer": "ipython3",
   "version": "3.10.5"
  },
  "orig_nbformat": 4
 },
 "nbformat": 4,
 "nbformat_minor": 2
}
