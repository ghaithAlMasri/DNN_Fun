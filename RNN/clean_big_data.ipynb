{
 "cells": [
  {
   "cell_type": "code",
   "execution_count": 11,
   "metadata": {},
   "outputs": [],
   "source": [
    "import pandas as pd\n",
    "import numpy as np\n",
    "from datamanager import DGMT\n",
    "from sklearn.preprocessing import MinMaxScaler\n",
    "from collections import deque\n",
    "import random\n",
    "import pickle\n",
    "import os"
   ]
  },
  {
   "cell_type": "code",
   "execution_count": 12,
   "metadata": {},
   "outputs": [],
   "source": [
    "dgmt = DGMT('../../ETHUSDT.csv','time')\n",
    "dgmt.change_resolution('60min')\n",
    "df = dgmt.df\n"
   ]
  },
  {
   "cell_type": "code",
   "execution_count": 13,
   "metadata": {},
   "outputs": [],
   "source": [
    "def poly_reg(df,n):\n",
    "    y = df.values.reshape(-1, 1)\n",
    "    t = np.arange(len(y))\n",
    "    X = np.c_[np.ones_like(y), t, t ** 2]\n",
    "    betas = np.linalg.inv(X.T @ X) @ X.T @ y\n",
    "    new_vals = np.array([1, t[-1]+n, (t[-1]+n)**2])\n",
    "    pred = new_vals@betas  # beta0 + beta1 * t[-1]+n + beta2 * (t[-1]+n)**2\n",
    "    return pred\n",
    "def create_target(df):\n",
    "    df['poly'] = df.close.rolling(12).apply(poly_reg, args=(3,), raw=False)\n",
    "    df['poly_sig'] = (df.poly >= df.close) * 1\n",
    "    df.drop(['poly'], axis=1 ,inplace=True)\n",
    "    df = df[df.poly_sig != np.inf]\n",
    "    df['target'] = (df['close'].shift(-3) > df['close']).astype(int)\n",
    "    return df\n",
    "\n",
    "def preprocessing_df(df:pd.DataFrame):\n",
    "    for c in df.columns:\n",
    "        if c != 'target':\n",
    "            if c == 'poly_sig':\n",
    "                continue\n",
    "            print(c)\n",
    "            df[c] = df[c].pct_change()\n",
    "            df.dropna(inplace=True)\n",
    "            scaler = MinMaxScaler()\n",
    "            scaler.fit(np.array(df[c].values).reshape(-1,1))\n",
    "            df[c] = scaler.transform(np.array(df[c].values).reshape(-1,1))\n",
    "        df.dropna(inplace=True)\n",
    "    df.dropna(inplace=True)\n",
    "    return df\n",
    "\n",
    "def create_sequences(df:pd.DataFrame, lookback:int):\n",
    "    sequences =  []\n",
    "    lookback_arr = deque(maxlen = lookback)\n",
    "    for i in df.values:\n",
    "        lookback_arr.append([x for x in i[:-1]])\n",
    "        if len(lookback_arr) == lookback:\n",
    "            sequences.append([np.array(lookback_arr), i[-1]])\n",
    "    random.shuffle(sequences)\n",
    "\n",
    "\n",
    "    buys = [sequences[x] for x in range(len(sequences)) if sequences[x][-1] == 1]\n",
    "    sells = [sequences[x] for x in range(len(sequences)) if sequences[x][-1] == 0]\n",
    "    \n",
    "\n",
    "    min_idx = min(len(buys), len(sells))\n",
    "    print(len(buys), len(sells))\n",
    "    buys = buys[:min_idx]\n",
    "    sells = sells[:min_idx]\n",
    "\n",
    "\n",
    "    sequences = buys + sells\n",
    "    random.shuffle(sequences)\n",
    "    X = [sequences[x][0] for x in range(len(sequences))]\n",
    "    y = [sequences[x][1] for x in range(len(sequences))]\n",
    "\n",
    "    return np.array(X),np.array(y)\n"
   ]
  },
  {
   "cell_type": "code",
   "execution_count": 14,
   "metadata": {},
   "outputs": [
    {
     "name": "stdout",
     "output_type": "stream",
     "text": [
      "volume\n",
      "open\n",
      "low\n",
      "high\n",
      "close\n"
     ]
    }
   ],
   "source": [
    "df = create_target(df)\n",
    "df = preprocessing_df(df)\n",
    "val_df = df.iloc[int(len(df)*0.7):]\n",
    "df = df.iloc[:int(len(df)*0.7)]"
   ]
  },
  {
   "cell_type": "code",
   "execution_count": 15,
   "metadata": {},
   "outputs": [
    {
     "name": "stdout",
     "output_type": "stream",
     "text": [
      "17474 16645\n",
      "7379 7227\n"
     ]
    }
   ],
   "source": [
    "X_train, y_train = create_sequences(df, 30)\n",
    "X_test, y_test = create_sequences(val_df,30)"
   ]
  },
  {
   "cell_type": "code",
   "execution_count": 16,
   "metadata": {},
   "outputs": [],
   "source": [
    "data = {'X_train':X_train, 'y_train':y_train, 'X_test':X_test, 'y_test':y_test}\n",
    "\n",
    "for i in data.keys():\n",
    "    if 'eth_15min_filtered_data' not in os.listdir('./'):\n",
    "        os.mkdir('./eth_15min_filtered_data')\n",
    "    with open(f'eth_15min_filtered_data/{i}.pickle','wb') as f:\n",
    "        pickle.dump(data.get(i),f)"
   ]
  },
  {
   "cell_type": "code",
   "execution_count": 17,
   "metadata": {},
   "outputs": [
    {
     "data": {
      "text/plain": [
       "33290"
      ]
     },
     "execution_count": 17,
     "metadata": {},
     "output_type": "execute_result"
    }
   ],
   "source": [
    "len(X_train)"
   ]
  },
  {
   "cell_type": "code",
   "execution_count": 18,
   "metadata": {},
   "outputs": [
    {
     "data": {
      "text/html": [
       "<div>\n",
       "<style scoped>\n",
       "    .dataframe tbody tr th:only-of-type {\n",
       "        vertical-align: middle;\n",
       "    }\n",
       "\n",
       "    .dataframe tbody tr th {\n",
       "        vertical-align: top;\n",
       "    }\n",
       "\n",
       "    .dataframe thead th {\n",
       "        text-align: right;\n",
       "    }\n",
       "</style>\n",
       "<table border=\"1\" class=\"dataframe\">\n",
       "  <thead>\n",
       "    <tr style=\"text-align: right;\">\n",
       "      <th></th>\n",
       "      <th>volume</th>\n",
       "      <th>open</th>\n",
       "      <th>low</th>\n",
       "      <th>high</th>\n",
       "      <th>close</th>\n",
       "      <th>poly_sig</th>\n",
       "      <th>target</th>\n",
       "    </tr>\n",
       "    <tr>\n",
       "      <th>time</th>\n",
       "      <th></th>\n",
       "      <th></th>\n",
       "      <th></th>\n",
       "      <th></th>\n",
       "      <th></th>\n",
       "      <th></th>\n",
       "      <th></th>\n",
       "    </tr>\n",
       "  </thead>\n",
       "  <tbody>\n",
       "  </tbody>\n",
       "</table>\n",
       "</div>"
      ],
      "text/plain": [
       "Empty DataFrame\n",
       "Columns: [volume, open, low, high, close, poly_sig, target]\n",
       "Index: []"
      ]
     },
     "execution_count": 18,
     "metadata": {},
     "output_type": "execute_result"
    }
   ],
   "source": [
    "df[df.values == np.inf]"
   ]
  },
  {
   "cell_type": "code",
   "execution_count": null,
   "metadata": {},
   "outputs": [],
   "source": []
  }
 ],
 "metadata": {
  "kernelspec": {
   "display_name": "Python 3",
   "language": "python",
   "name": "python3"
  },
  "language_info": {
   "codemirror_mode": {
    "name": "ipython",
    "version": 3
   },
   "file_extension": ".py",
   "mimetype": "text/x-python",
   "name": "python",
   "nbconvert_exporter": "python",
   "pygments_lexer": "ipython3",
   "version": "3.10.5"
  },
  "orig_nbformat": 4
 },
 "nbformat": 4,
 "nbformat_minor": 2
}
