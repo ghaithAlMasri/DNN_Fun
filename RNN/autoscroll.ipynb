{
 "cells": [
  {
   "cell_type": "code",
   "execution_count": 1,
   "metadata": {},
   "outputs": [
    {
     "ename": "FailSafeException",
     "evalue": "PyAutoGUI fail-safe triggered from mouse moving to a corner of the screen. To disable this fail-safe, set pyautogui.FAILSAFE to False. DISABLING FAIL-SAFE IS NOT RECOMMENDED.",
     "output_type": "error",
     "traceback": [
      "\u001b[0;31m---------------------------------------------------------------------------\u001b[0m",
      "\u001b[0;31mFailSafeException\u001b[0m                         Traceback (most recent call last)",
      "\u001b[1;32m/Users/ghaithalmasri/Desktop/fullstackroad/DNNs/RNN/autoscroll.ipynb Cell 1\u001b[0m in \u001b[0;36m<cell line: 27>\u001b[0;34m()\u001b[0m\n\u001b[1;32m     <a href='vscode-notebook-cell:/Users/ghaithalmasri/Desktop/fullstackroad/DNNs/RNN/autoscroll.ipynb#W1sZmlsZQ%3D%3D?line=27'>28</a>\u001b[0m \u001b[39mtry\u001b[39;00m:\n\u001b[1;32m     <a href='vscode-notebook-cell:/Users/ghaithalmasri/Desktop/fullstackroad/DNNs/RNN/autoscroll.ipynb#W1sZmlsZQ%3D%3D?line=28'>29</a>\u001b[0m     \u001b[39mwhile\u001b[39;00m \u001b[39mTrue\u001b[39;00m:\n\u001b[0;32m---> <a href='vscode-notebook-cell:/Users/ghaithalmasri/Desktop/fullstackroad/DNNs/RNN/autoscroll.ipynb#W1sZmlsZQ%3D%3D?line=29'>30</a>\u001b[0m         random_mouse_move()\n\u001b[1;32m     <a href='vscode-notebook-cell:/Users/ghaithalmasri/Desktop/fullstackroad/DNNs/RNN/autoscroll.ipynb#W1sZmlsZQ%3D%3D?line=30'>31</a>\u001b[0m         random_scroll()\n\u001b[1;32m     <a href='vscode-notebook-cell:/Users/ghaithalmasri/Desktop/fullstackroad/DNNs/RNN/autoscroll.ipynb#W1sZmlsZQ%3D%3D?line=31'>32</a>\u001b[0m         time\u001b[39m.\u001b[39msleep(random\u001b[39m.\u001b[39mrandint(\u001b[39m1\u001b[39m, \u001b[39m40\u001b[39m))\n",
      "\u001b[1;32m/Users/ghaithalmasri/Desktop/fullstackroad/DNNs/RNN/autoscroll.ipynb Cell 1\u001b[0m in \u001b[0;36mrandom_mouse_move\u001b[0;34m()\u001b[0m\n\u001b[1;32m     <a href='vscode-notebook-cell:/Users/ghaithalmasri/Desktop/fullstackroad/DNNs/RNN/autoscroll.ipynb#W1sZmlsZQ%3D%3D?line=14'>15</a>\u001b[0m current_x, current_y \u001b[39m=\u001b[39m pyautogui\u001b[39m.\u001b[39mposition()\n\u001b[1;32m     <a href='vscode-notebook-cell:/Users/ghaithalmasri/Desktop/fullstackroad/DNNs/RNN/autoscroll.ipynb#W1sZmlsZQ%3D%3D?line=16'>17</a>\u001b[0m \u001b[39m# Move the mouse to the target position smoothly\u001b[39;00m\n\u001b[0;32m---> <a href='vscode-notebook-cell:/Users/ghaithalmasri/Desktop/fullstackroad/DNNs/RNN/autoscroll.ipynb#W1sZmlsZQ%3D%3D?line=17'>18</a>\u001b[0m pyautogui\u001b[39m.\u001b[39;49mmoveTo(target_x, target_y, duration\u001b[39m=\u001b[39;49m\u001b[39m0.5\u001b[39;49m)\n",
      "File \u001b[0;32m/Library/Frameworks/Python.framework/Versions/3.10/lib/python3.10/site-packages/pyautogui/__init__.py:598\u001b[0m, in \u001b[0;36m_genericPyAutoGUIChecks.<locals>.wrapper\u001b[0;34m(*args, **kwargs)\u001b[0m\n\u001b[1;32m    595\u001b[0m \u001b[39m@functools\u001b[39m\u001b[39m.\u001b[39mwraps(wrappedFunction)\n\u001b[1;32m    596\u001b[0m \u001b[39mdef\u001b[39;00m \u001b[39mwrapper\u001b[39m(\u001b[39m*\u001b[39margs, \u001b[39m*\u001b[39m\u001b[39m*\u001b[39mkwargs):\n\u001b[1;32m    597\u001b[0m     failSafeCheck()\n\u001b[0;32m--> 598\u001b[0m     returnVal \u001b[39m=\u001b[39m wrappedFunction(\u001b[39m*\u001b[39;49margs, \u001b[39m*\u001b[39;49m\u001b[39m*\u001b[39;49mkwargs)\n\u001b[1;32m    599\u001b[0m     _handlePause(kwargs\u001b[39m.\u001b[39mget(\u001b[39m\"\u001b[39m\u001b[39m_pause\u001b[39m\u001b[39m\"\u001b[39m, \u001b[39mTrue\u001b[39;00m))\n\u001b[1;32m    600\u001b[0m     \u001b[39mreturn\u001b[39;00m returnVal\n",
      "File \u001b[0;32m/Library/Frameworks/Python.framework/Versions/3.10/lib/python3.10/site-packages/pyautogui/__init__.py:1283\u001b[0m, in \u001b[0;36mmoveTo\u001b[0;34m(x, y, duration, tween, logScreenshot, _pause)\u001b[0m\n\u001b[1;32m   1280\u001b[0m x, y \u001b[39m=\u001b[39m _normalizeXYArgs(x, y)\n\u001b[1;32m   1282\u001b[0m _logScreenshot(logScreenshot, \u001b[39m\"\u001b[39m\u001b[39mmoveTo\u001b[39m\u001b[39m\"\u001b[39m, \u001b[39m\"\u001b[39m\u001b[39m%s\u001b[39;00m\u001b[39m,\u001b[39m\u001b[39m%s\u001b[39;00m\u001b[39m\"\u001b[39m \u001b[39m%\u001b[39m (x, y), folder\u001b[39m=\u001b[39m\u001b[39m\"\u001b[39m\u001b[39m.\u001b[39m\u001b[39m\"\u001b[39m)\n\u001b[0;32m-> 1283\u001b[0m _mouseMoveDrag(\u001b[39m\"\u001b[39;49m\u001b[39mmove\u001b[39;49m\u001b[39m\"\u001b[39;49m, x, y, \u001b[39m0\u001b[39;49m, \u001b[39m0\u001b[39;49m, duration, tween)\n",
      "File \u001b[0;32m/Library/Frameworks/Python.framework/Versions/3.10/lib/python3.10/site-packages/pyautogui/__init__.py:1499\u001b[0m, in \u001b[0;36m_mouseMoveDrag\u001b[0;34m(moveOrDrag, x, y, xOffset, yOffset, duration, tween, button)\u001b[0m\n\u001b[1;32m   1495\u001b[0m \u001b[39m# Do a fail-safe check to see if the user moved the mouse to a fail-safe position, but not if the mouse cursor\u001b[39;00m\n\u001b[1;32m   1496\u001b[0m \u001b[39m# moved there as a result of this function. (Just because tweenX and tweenY aren't in a fail-safe position\u001b[39;00m\n\u001b[1;32m   1497\u001b[0m \u001b[39m# doesn't mean the user couldn't have moved the mouse cursor to a fail-safe position.)\u001b[39;00m\n\u001b[1;32m   1498\u001b[0m \u001b[39mif\u001b[39;00m (tweenX, tweenY) \u001b[39mnot\u001b[39;00m \u001b[39min\u001b[39;00m FAILSAFE_POINTS:\n\u001b[0;32m-> 1499\u001b[0m     failSafeCheck()\n\u001b[1;32m   1501\u001b[0m \u001b[39mif\u001b[39;00m moveOrDrag \u001b[39m==\u001b[39m \u001b[39m\"\u001b[39m\u001b[39mmove\u001b[39m\u001b[39m\"\u001b[39m:\n\u001b[1;32m   1502\u001b[0m     platformModule\u001b[39m.\u001b[39m_moveTo(tweenX, tweenY)\n",
      "File \u001b[0;32m/Library/Frameworks/Python.framework/Versions/3.10/lib/python3.10/site-packages/pyautogui/__init__.py:1722\u001b[0m, in \u001b[0;36mfailSafeCheck\u001b[0;34m()\u001b[0m\n\u001b[1;32m   1720\u001b[0m \u001b[39mdef\u001b[39;00m \u001b[39mfailSafeCheck\u001b[39m():\n\u001b[1;32m   1721\u001b[0m     \u001b[39mif\u001b[39;00m FAILSAFE \u001b[39mand\u001b[39;00m \u001b[39mtuple\u001b[39m(position()) \u001b[39min\u001b[39;00m FAILSAFE_POINTS:\n\u001b[0;32m-> 1722\u001b[0m         \u001b[39mraise\u001b[39;00m FailSafeException(\n\u001b[1;32m   1723\u001b[0m             \u001b[39m\"\u001b[39m\u001b[39mPyAutoGUI fail-safe triggered from mouse moving to a corner of the screen. To disable this fail-safe, set pyautogui.FAILSAFE to False. DISABLING FAIL-SAFE IS NOT RECOMMENDED.\u001b[39m\u001b[39m\"\u001b[39m\n\u001b[1;32m   1724\u001b[0m         )\n",
      "\u001b[0;31mFailSafeException\u001b[0m: PyAutoGUI fail-safe triggered from mouse moving to a corner of the screen. To disable this fail-safe, set pyautogui.FAILSAFE to False. DISABLING FAIL-SAFE IS NOT RECOMMENDED."
     ]
    }
   ],
   "source": [
    "import pyautogui\n",
    "import random\n",
    "import time\n",
    "\n",
    "\n",
    "def random_mouse_move():\n",
    "    # Get screen dimensions\n",
    "    screen_width, screen_height = pyautogui.size()\n",
    "\n",
    "    # Generate random target position\n",
    "    target_x = random.randint(0, screen_width)\n",
    "    target_y = random.randint(0, screen_height)\n",
    "\n",
    "    # Get the current mouse position\n",
    "    current_x, current_y = pyautogui.position()\n",
    "\n",
    "    # Move the mouse to the target position smoothly\n",
    "    pyautogui.moveTo(target_x, target_y, duration=0.5)\n",
    "\n",
    "def random_scroll():\n",
    "    # Generate random scroll direction (1 for up, -1 for down)\n",
    "    scroll_direction = random.choice([-1, 1])\n",
    "\n",
    "    # Scroll one \"unit\" in the determined direction\n",
    "    pyautogui.scroll(scroll_direction)\n",
    "\n",
    "if __name__ == \"__main__\":\n",
    "    try:\n",
    "        while True:\n",
    "            random_mouse_move()\n",
    "            random_scroll()\n",
    "            time.sleep(random.randint(1, 40))\n",
    "            # print(\"Script terminated by user.\")\n",
    "\n",
    "    except KeyboardInterrupt:\n",
    "        print(\"Script terminated.\")\n"
   ]
  },
  {
   "cell_type": "code",
   "execution_count": null,
   "metadata": {},
   "outputs": [],
   "source": []
  },
  {
   "cell_type": "code",
   "execution_count": null,
   "metadata": {},
   "outputs": [],
   "source": []
  }
 ],
 "metadata": {
  "kernelspec": {
   "display_name": "Python 3",
   "language": "python",
   "name": "python3"
  },
  "language_info": {
   "codemirror_mode": {
    "name": "ipython",
    "version": 3
   },
   "file_extension": ".py",
   "mimetype": "text/x-python",
   "name": "python",
   "nbconvert_exporter": "python",
   "pygments_lexer": "ipython3",
   "version": "3.10.5"
  },
  "orig_nbformat": 4
 },
 "nbformat": 4,
 "nbformat_minor": 2
}
